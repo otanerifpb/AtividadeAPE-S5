{
  "nbformat": 4,
  "nbformat_minor": 0,
  "metadata": {
    "colab": {
      "provenance": [],
      "include_colab_link": true
    },
    "kernelspec": {
      "name": "python3",
      "display_name": "Python 3"
    }
  },
  "cells": [
    {
      "cell_type": "markdown",
      "metadata": {
        "id": "view-in-github",
        "colab_type": "text"
      },
      "source": [
        "<a href=\"https://colab.research.google.com/github/otanerifpb/AtividadeAPE-S5/blob/main/C%C3%B3pia_de_Renato_Ribeiro_da_Silva_Avaliacao_05.ipynb\" target=\"_parent\"><img src=\"https://colab.research.google.com/assets/colab-badge.svg\" alt=\"Open In Colab\"/></a>"
      ]
    },
    {
      "cell_type": "markdown",
      "metadata": {
        "id": "PO8efkjRUtjo"
      },
      "source": [
        "**IFPB - CAMPUS JOÃO PESSOA    \n",
        "CURSO: SISTEMAS PARA INTERNET     \n",
        "DISCIPLINA: ALGORITMOS E PROGRAMAÇÃO ESTRUTURADA     \n",
        "PROFESSORES: CANDIDO EGYPTO / EDEMBERG ROCHA / GIOVANNI MELO**"
      ]
    },
    {
      "cell_type": "markdown",
      "metadata": {
        "id": "VVFFZyE0cJBJ"
      },
      "source": [
        "# AVALIAÇÃO DA SEMANA 5"
      ]
    },
    {
      "cell_type": "markdown",
      "metadata": {
        "id": "S9MjYNiFbGDT"
      },
      "source": [
        "##Questão 1"
      ]
    },
    {
      "cell_type": "markdown",
      "metadata": {
        "id": "aqgbAAAHhRzF"
      },
      "source": [
        "Faça um programa que, para cada um dos vários alunos de uma turma, leia o nome e as três notas do aluno (a leitura do nome FIM indica o fim dos dados de entrada), mostre o nome, a média final e o conceito, sabendo-se que:    \n",
        "* A média final é calculada pela média aritmética das 3 notas;\n",
        "* O conceito é determinado de com base na tabela abaixo:\n",
        "\n",
        "> ![aval5_1.png](data:image/png;base64,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)\n",
        "\n",
        "Determine e mostre também:    \n",
        "* A quantidade de alunos com conceito A;    \n",
        "* A quantidade de alunos com conceito B;    \n",
        "* A quantidade de alunos com conceito C;    \n",
        "* A quantidade total de alunos da turma.\n",
        "\n"
      ]
    },
    {
      "cell_type": "code",
      "metadata": {
        "id": "U8_NLVBp97Hu",
        "outputId": "7a6ad90a-3330-4000-e50a-33986dccd85a",
        "colab": {
          "base_uri": "https://localhost:8080/",
          "height": 476
        }
      },
      "source": [
        "print('Informe nome do aluno e as 3 notas; Para encerrar digite FIM.')\n",
        "tot = tota = totb = totc = 0\n",
        "n = input('Informe o nome do aluno:').lower()\n",
        "while n != 'fim':\n",
        "    n1 = float(input('Informe a nota 1:'))\n",
        "    n2 = float(input('Informe a nota 2:'))\n",
        "    n3 = float(input('Informe a nota 3:'))\n",
        "    tot += 1\n",
        "    mf = (n1 + n2 + n3)/3\n",
        "    if mf >= 7:\n",
        "        tota += 1\n",
        "    if mf >= 4 and mf < 7:\n",
        "        totb += 1\n",
        "    if mf < 4:\n",
        "        totc += 1\n",
        "    n = input('Informe o nome do aluno:').lower()\n",
        "print(F'A quantidade de aluno com conceito A: {tota:.0f}')\n",
        "print(F'A quantidade de aluno com conceito B: {totb:.0f}')\n",
        "print(F'A quantidade de aluno com conceito C: {totc:.0f}')\n",
        "print(F'O total de alunos é de: {tot:.0f}')\n",
        "print('Fim do programa')"
      ],
      "execution_count": null,
      "outputs": [
        {
          "output_type": "stream",
          "text": [
            "Informe nome do aluno e as 3 notas; Para encerrar digite FIM.\n",
            "Informe o nome do aluno:lkpok\n",
            "Informe a nota 1:9\n",
            "Informe a nota 2:5\n",
            "Informe a nota 3:4\n",
            "Informe o nome do aluno:ijgiug\n",
            "Informe a nota 1:9\n",
            "Informe a nota 2:7\n",
            "Informe a nota 3:6\n",
            "Informe o nome do aluno:oiuhgo\n",
            "Informe a nota 1:5\n",
            "Informe a nota 2:2\n",
            "Informe a nota 3:3\n",
            "Informe o nome do aluno:poijp\n",
            "Informe a nota 1:9\n",
            "Informe a nota 2:7\n",
            "Informe a nota 3:8\n",
            "Informe o nome do aluno:poj´pk\n",
            "Informe a nota 1:4\n",
            "Informe a nota 2:3\n",
            "Informe a nota 3:6\n",
            "Informe o nome do aluno:fim\n",
            "A quantidade de aluno com conceito A: 2\n",
            "A quantidade de aluno com conceito B: 2\n",
            "A quantidade de aluno com conceito C: 1\n",
            "O total de alunos é de: 5\n",
            "Fim do programa\n"
          ],
          "name": "stdout"
        }
      ]
    },
    {
      "cell_type": "markdown",
      "metadata": {
        "id": "VEOnOHOvzNVT"
      },
      "source": [
        "##Questão 2"
      ]
    },
    {
      "cell_type": "markdown",
      "metadata": {
        "id": "4uIk1i5Q-ZIg"
      },
      "source": [
        "Faça um programa que leia a idade de várias pessoas visitantes de um show (a leitura da idade 0 indicará o fim dos dados de entrada), calcule e exiba:     \n",
        "* A média de idade do público;    \n",
        "* A porcentagem de pessoas com idade entre 18 e 21 anos;    \n",
        "* Idade do visitante mais jovem."
      ]
    },
    {
      "cell_type": "code",
      "metadata": {
        "id": "vmY6p9omhQhx",
        "outputId": "524846bc-f376-4765-bce6-468fd0c65c12",
        "colab": {
          "base_uri": "https://localhost:8080/",
          "height": 221
        }
      },
      "source": [
        "print('Informe a idade do visitante; Para encerrar o programa digite 0.')\n",
        "tot = toti = tot18 = 0\n",
        "ida = int(input('Informe a idade:'))\n",
        "menor = ida\n",
        "while ida != 0:\n",
        "    tot += 1\n",
        "    toti += ida\n",
        "    m = toti / tot\n",
        "    if ida >= 18 and ida <= 21:\n",
        "        tot18 += 1\n",
        "    if ida < menor:\n",
        "        menor = ida\n",
        "    ida = int(input('Informe a idade:'))\n",
        "mj = (tot18 * 100)/tot\n",
        "print(F'A média da idade do público visitante é de: {m:.1f} anos.')\n",
        "print(F'O público visitante com idade entre 18 e 21 anos é de: {mj:.1f} %.')\n",
        "print(F'O visitante mais jovem é de: {menor:.0f} anos.')\n",
        "print('Fim do programa.')"
      ],
      "execution_count": null,
      "outputs": [
        {
          "output_type": "stream",
          "text": [
            "Informe a idade do visitante; para encerrar o programa digite 0.\n",
            "Informe a idade:12\n",
            "Informe a idade:25\n",
            "Informe a idade:23\n",
            "Informe a idade:18\n",
            "Informe a idade:1\n",
            "Informe a idade:35\n",
            "Informe a idade:0\n",
            "A média da idade do público visitante é de: 19.0 anos.\n",
            "O público visitante com idade entre 18 e 21 anos é de: 16.7 %.\n",
            "O visitante mais jovem é de: 1 anos.\n",
            "Fim do programa.\n"
          ],
          "name": "stdout"
        }
      ]
    }
  ]
}